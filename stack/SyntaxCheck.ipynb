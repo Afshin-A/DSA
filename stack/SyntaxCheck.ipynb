{
 "cells": [
  {
   "cell_type": "markdown",
   "id": "65f77e31",
   "metadata": {},
   "source": [
    "This program checks if bracket syntax is correct. For example,\n",
    "```\n",
    "{\n",
    "    [\n",
    "        (\n",
    "            {}\n",
    "        )\n",
    "    ]\n",
    "}\n",
    "```\n",
    "is correct, whereas\n",
    "```\n",
    "{\n",
    "    )\n",
    "        [\n",
    "            {}\n",
    "        ]\n",
    "}\n",
    "```\n",
    "is not."
   ]
  },
  {
   "cell_type": "markdown",
   "id": "13add4e2",
   "metadata": {},
   "source": [
    "### Psuedocode\n",
    "```\n",
    "for every item in the string\n",
    "    if item is opening bracket\n",
    "        add it to the stack\n",
    "    else if item is a closing bracket\n",
    "        if pop stack returns matching opening bracket\n",
    "            continue\n",
    "        else\n",
    "            return false\n",
    "    # string should now be empty\n",
    "    return string.isEmpty\n",
    "```"
   ]
  },
  {
   "cell_type": "code",
   "execution_count": 28,
   "id": "07ae8838-ed7e-4066-88ef-5bb4e976b37e",
   "metadata": {},
   "outputs": [
    {
     "name": "stdout",
     "output_type": "stream",
     "text": [
      "==========\n",
      "current item is [\n",
      "appending [ stack\n",
      "stack content: [\n",
      "==========\n",
      "current item is [\n",
      "appending [ stack\n",
      "stack content: [, [\n",
      "==========\n",
      "current item is [\n",
      "appending [ stack\n",
      "stack content: [, [, [\n",
      "==========\n",
      "current item is a\n",
      "item is a non bracket item\n",
      "False\n"
     ]
    }
   ],
   "source": [
    "from collections import deque\n",
    "\n",
    "def isOpeningBracket(item):\n",
    "    return item in ['(', '{', '[']\n",
    "\n",
    "def isClosingBracket(item):\n",
    "    return item in [')', '}', ']']\n",
    "\n",
    "def getOpeningBracket(open_bracket):\n",
    "    brackets_dict = {\n",
    "        ')': '(',\n",
    "        '}': '{',\n",
    "        ']': '['\n",
    "    }\n",
    "    return brackets_dict.get(open_bracket)\n",
    "\n",
    "def CheckSyntax(string: str) -> bool:\n",
    "    # The deque is the closest implementation to that stack that python has \n",
    "    stack = deque([])\n",
    "\n",
    "    for item in string:\n",
    "        print('=' * 10)\n",
    "        print('current item is ' + item)\n",
    "        # if the item is an opening bracket, add it to the stack\n",
    "        if isOpeningBracket(item):\n",
    "            print('appending ' + item + ' stack')\n",
    "            stack.append(item)\n",
    "        # if the item is a closing bracket, \n",
    "        elif isClosingBracket(item):\n",
    "            open_bracket = getOpeningBracket(item)\n",
    "            print('reverse of current item is: ' + open_bracket)\n",
    "            # check to see if it \n",
    "            # if we've encountered a closing bracket, there should be an opening bracket in the stack. If not, retrun False\n",
    "            # NOTE: we need to check if stack is empty before poping the last element, otherwise False is prematurely is returned\n",
    "            if len(stack) == 0 or stack.pop() != open_bracket:\n",
    "                print('stack head isn\\'t a match or stack is empty')\n",
    "                return False\n",
    "        \n",
    "        # else if we encounter a non bracket item, return invalid\n",
    "        else:\n",
    "            print('item is a non bracket item')\n",
    "            return False\n",
    "        \n",
    "        print('stack content: ' + ', '.join(list(stack)))\n",
    "    \n",
    "    # It is possible the string ends with an extra closing bracket eventhough the stack is empty. In this case, the string has an invalid format.\n",
    "    # So stack should be empty. Return True only if stack is empty\n",
    "    return len(stack) == 0\n",
    "\n",
    "\n",
    "# This should return true\n",
    "print(CheckSyntax('[[[a]({})]]'))\n",
    "\n"
   ]
  },
  {
   "cell_type": "code",
   "execution_count": null,
   "id": "0e9fdfb2",
   "metadata": {},
   "outputs": [],
   "source": []
  }
 ],
 "metadata": {
  "kernelspec": {
   "display_name": "DSA",
   "language": "python",
   "name": "dsa"
  },
  "language_info": {
   "codemirror_mode": {
    "name": "ipython",
    "version": 3
   },
   "file_extension": ".py",
   "mimetype": "text/x-python",
   "name": "python",
   "nbconvert_exporter": "python",
   "pygments_lexer": "ipython3",
   "version": "3.12.3"
  }
 },
 "nbformat": 4,
 "nbformat_minor": 5
}
